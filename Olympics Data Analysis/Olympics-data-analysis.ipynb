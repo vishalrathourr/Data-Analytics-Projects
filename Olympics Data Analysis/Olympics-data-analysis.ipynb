{
 "cells": [
  {
   "cell_type": "markdown",
   "id": "6917d1a7-a9f4-483b-9848-afea0bdd0066",
   "metadata": {},
   "source": [
    "# **Olympics Data Analysis(1896-2022)**\n",
    "### By *Vishal Rathour* vishdsc@gmail.com\n",
    "### "
   ]
  },
  {
   "cell_type": "code",
   "execution_count": 1,
   "id": "fddda866-58d0-447c-bac5-edf3c07aac77",
   "metadata": {},
   "outputs": [],
   "source": [
    "# Import Required Libraries\n",
    "import numpy as np\n",
    "import pandas as pd\n",
    "import matplotlib.pyplot as plt\n",
    "import matplotlib.ticker as mticker\n",
    "import seaborn as sns\n",
    "import re"
   ]
  },
  {
   "cell_type": "markdown",
   "id": "0a0cee51-386b-4403-819c-bfad47c2d5fb",
   "metadata": {},
   "source": [
    "# *Olympic Host Data Analysis*"
   ]
  },
  {
   "cell_type": "code",
   "execution_count": 2,
   "id": "dd3c2c42-3c33-4842-8d6b-55907203222b",
   "metadata": {},
   "outputs": [],
   "source": [
    "# read the file\n",
    "host_df = pd.read_csv('olympic_hosts.csv')"
   ]
  },
  {
   "cell_type": "code",
   "execution_count": 3,
   "id": "e193f0e9-4d6f-49cb-a3b2-25ada3712cd7",
   "metadata": {},
   "outputs": [
    {
     "data": {
      "text/plain": [
       "(53, 7)"
      ]
     },
     "execution_count": 3,
     "metadata": {},
     "output_type": "execute_result"
    }
   ],
   "source": [
    "host_df.shape"
   ]
  },
  {
   "cell_type": "code",
   "execution_count": 4,
   "id": "290d3ef5-bb0d-4bf5-b4a8-37b84876be69",
   "metadata": {},
   "outputs": [
    {
     "name": "stdout",
     "output_type": "stream",
     "text": [
      "<class 'pandas.core.frame.DataFrame'>\n",
      "RangeIndex: 53 entries, 0 to 52\n",
      "Data columns (total 7 columns):\n",
      " #   Column           Non-Null Count  Dtype \n",
      "---  ------           --------------  ----- \n",
      " 0   game_slug        53 non-null     object\n",
      " 1   game_end_date    53 non-null     object\n",
      " 2   game_start_date  53 non-null     object\n",
      " 3   game_location    53 non-null     object\n",
      " 4   game_name        53 non-null     object\n",
      " 5   game_season      53 non-null     object\n",
      " 6   game_year        53 non-null     int64 \n",
      "dtypes: int64(1), object(6)\n",
      "memory usage: 3.0+ KB\n"
     ]
    }
   ],
   "source": [
    "host_df.info()"
   ]
  },
  {
   "cell_type": "code",
   "execution_count": 5,
   "id": "1760ccaa-1d9d-4b03-9675-ab0185a93c7f",
   "metadata": {},
   "outputs": [
    {
     "data": {
      "text/html": [
       "<div>\n",
       "<style scoped>\n",
       "    .dataframe tbody tr th:only-of-type {\n",
       "        vertical-align: middle;\n",
       "    }\n",
       "\n",
       "    .dataframe tbody tr th {\n",
       "        vertical-align: top;\n",
       "    }\n",
       "\n",
       "    .dataframe thead th {\n",
       "        text-align: right;\n",
       "    }\n",
       "</style>\n",
       "<table border=\"1\" class=\"dataframe\">\n",
       "  <thead>\n",
       "    <tr style=\"text-align: right;\">\n",
       "      <th></th>\n",
       "      <th>game_slug</th>\n",
       "      <th>game_end_date</th>\n",
       "      <th>game_start_date</th>\n",
       "      <th>game_location</th>\n",
       "      <th>game_name</th>\n",
       "      <th>game_season</th>\n",
       "      <th>game_year</th>\n",
       "    </tr>\n",
       "  </thead>\n",
       "  <tbody>\n",
       "    <tr>\n",
       "      <th>0</th>\n",
       "      <td>beijing-2022</td>\n",
       "      <td>2022-02-20T12:00:00Z</td>\n",
       "      <td>2022-02-04T15:00:00Z</td>\n",
       "      <td>China</td>\n",
       "      <td>Beijing 2022</td>\n",
       "      <td>Winter</td>\n",
       "      <td>2022</td>\n",
       "    </tr>\n",
       "    <tr>\n",
       "      <th>1</th>\n",
       "      <td>tokyo-2020</td>\n",
       "      <td>2021-08-08T14:00:00Z</td>\n",
       "      <td>2021-07-23T11:00:00Z</td>\n",
       "      <td>Japan</td>\n",
       "      <td>Tokyo 2020</td>\n",
       "      <td>Summer</td>\n",
       "      <td>2020</td>\n",
       "    </tr>\n",
       "    <tr>\n",
       "      <th>2</th>\n",
       "      <td>pyeongchang-2018</td>\n",
       "      <td>2018-02-25T08:00:00Z</td>\n",
       "      <td>2018-02-08T23:00:00Z</td>\n",
       "      <td>Republic of Korea</td>\n",
       "      <td>PyeongChang 2018</td>\n",
       "      <td>Winter</td>\n",
       "      <td>2018</td>\n",
       "    </tr>\n",
       "    <tr>\n",
       "      <th>3</th>\n",
       "      <td>rio-2016</td>\n",
       "      <td>2016-08-21T21:00:00Z</td>\n",
       "      <td>2016-08-05T12:00:00Z</td>\n",
       "      <td>Brazil</td>\n",
       "      <td>Rio 2016</td>\n",
       "      <td>Summer</td>\n",
       "      <td>2016</td>\n",
       "    </tr>\n",
       "    <tr>\n",
       "      <th>4</th>\n",
       "      <td>sochi-2014</td>\n",
       "      <td>2014-02-23T16:00:00Z</td>\n",
       "      <td>2014-02-07T04:00:00Z</td>\n",
       "      <td>Russian Federation</td>\n",
       "      <td>Sochi 2014</td>\n",
       "      <td>Winter</td>\n",
       "      <td>2014</td>\n",
       "    </tr>\n",
       "  </tbody>\n",
       "</table>\n",
       "</div>"
      ],
      "text/plain": [
       "          game_slug         game_end_date       game_start_date  \\\n",
       "0      beijing-2022  2022-02-20T12:00:00Z  2022-02-04T15:00:00Z   \n",
       "1        tokyo-2020  2021-08-08T14:00:00Z  2021-07-23T11:00:00Z   \n",
       "2  pyeongchang-2018  2018-02-25T08:00:00Z  2018-02-08T23:00:00Z   \n",
       "3          rio-2016  2016-08-21T21:00:00Z  2016-08-05T12:00:00Z   \n",
       "4        sochi-2014  2014-02-23T16:00:00Z  2014-02-07T04:00:00Z   \n",
       "\n",
       "        game_location         game_name game_season  game_year  \n",
       "0               China      Beijing 2022      Winter       2022  \n",
       "1               Japan        Tokyo 2020      Summer       2020  \n",
       "2   Republic of Korea  PyeongChang 2018      Winter       2018  \n",
       "3              Brazil          Rio 2016      Summer       2016  \n",
       "4  Russian Federation        Sochi 2014      Winter       2014  "
      ]
     },
     "execution_count": 5,
     "metadata": {},
     "output_type": "execute_result"
    }
   ],
   "source": [
    "host_df.head()"
   ]
  },
  {
   "cell_type": "markdown",
   "id": "675ed488-aef6-4693-80e7-3b047787776a",
   "metadata": {},
   "source": [
    "### Host Countries Information"
   ]
  },
  {
   "cell_type": "code",
   "execution_count": 6,
   "id": "52fa73c8-c8eb-48d7-aa62-eab0231596a3",
   "metadata": {},
   "outputs": [
    {
     "data": {
      "image/png": "[encoded data removed]",
      "text/plain": [
       "<Figure size 1000x400 with 1 Axes>"
      ]
     },
     "metadata": {},
     "output_type": "display_data"
    }
   ],
   "source": [
    "plt.figure(figsize=(10,4))\n",
    "host_df['game_location'].value_counts().plot(kind='bar', color='green')\n",
    "plt.xlabel('Country')\n",
    "plt.ylabel('Frequency')\n",
    "plt.title(\"Frequency of Olympic Games by Host Country\")\n",
    "plt.show()"
   ]
  },
  {
   "cell_type": "markdown",
   "id": "046e7fca-6d8c-43bf-81f9-d849583e5221",
   "metadata": {},
   "source": [
    "### Olympics by Season"
   ]
  },
  {
   "cell_type": "code",
   "execution_count": 7,
   "id": "ab281cb4-9477-41e1-acf1-615e9f334f20",
   "metadata": {},
   "outputs": [
    {
     "data": {
      "image/png": "[encoded data removed]",
      "text/plain": [
       "<Figure size 600x400 with 1 Axes>"
      ]
     },
     "metadata": {},
     "output_type": "display_data"
    }
   ],
   "source": [
    "plt.figure(figsize=(6,4))\n",
    "host_df['game_season'].value_counts().plot(kind='bar')\n",
    "plt.xticks(rotation='horizontal')\n",
    "plt.xlabel('Season')\n",
    "plt.ylabel('Frequency')\n",
    "plt.title(\"Frequency of Olympic Games by Season\")\n",
    "plt.show()"
   ]
  },
  {
   "cell_type": "markdown",
   "id": "d85abc82-ad77-4903-9160-289c3329f516",
   "metadata": {},
   "source": [
    "### First Olympics details"
   ]
  },
  {
   "cell_type": "code",
   "execution_count": 8,
   "id": "efa457a8-2b9d-4291-9fa8-0e390fb315bd",
   "metadata": {},
   "outputs": [
    {
     "data": {
      "text/html": [
       "<div>\n",
       "<style scoped>\n",
       "    .dataframe tbody tr th:only-of-type {\n",
       "        vertical-align: middle;\n",
       "    }\n",
       "\n",
       "    .dataframe tbody tr th {\n",
       "        vertical-align: top;\n",
       "    }\n",
       "\n",
       "    .dataframe thead th {\n",
       "        text-align: right;\n",
       "    }\n",
       "</style>\n",
       "<table border=\"1\" class=\"dataframe\">\n",
       "  <thead>\n",
       "    <tr style=\"text-align: right;\">\n",
       "      <th></th>\n",
       "      <th>game_slug</th>\n",
       "      <th>game_end_date</th>\n",
       "      <th>game_start_date</th>\n",
       "      <th>game_location</th>\n",
       "      <th>game_name</th>\n",
       "      <th>game_season</th>\n",
       "      <th>game_year</th>\n",
       "    </tr>\n",
       "  </thead>\n",
       "  <tbody>\n",
       "    <tr>\n",
       "      <th>52</th>\n",
       "      <td>athens-1896</td>\n",
       "      <td>1896-04-15T11:39:39Z</td>\n",
       "      <td>1896-04-06T11:38:39Z</td>\n",
       "      <td>Greece</td>\n",
       "      <td>Athens 1896</td>\n",
       "      <td>Summer</td>\n",
       "      <td>1896</td>\n",
       "    </tr>\n",
       "  </tbody>\n",
       "</table>\n",
       "</div>"
      ],
      "text/plain": [
       "      game_slug         game_end_date       game_start_date game_location  \\\n",
       "52  athens-1896  1896-04-15T11:39:39Z  1896-04-06T11:38:39Z        Greece   \n",
       "\n",
       "      game_name game_season  game_year  \n",
       "52  Athens 1896      Summer       1896  "
      ]
     },
     "execution_count": 8,
     "metadata": {},
     "output_type": "execute_result"
    }
   ],
   "source": [
    "host_df[host_df['game_year']==host_df['game_year'].min()]"
   ]
  },
  {
   "cell_type": "markdown",
   "id": "ccb82f0c-6ee4-4fbc-bba7-9ee66792f9d7",
   "metadata": {},
   "source": [
    "### Olympics game duration"
   ]
  },
  {
   "cell_type": "code",
   "execution_count": 9,
   "id": "91247f8b-dd71-4175-a72a-46931ce3d789",
   "metadata": {},
   "outputs": [
    {
     "data": {
      "text/plain": [
       "datetime64[ns, UTC]"
      ]
     },
     "execution_count": 9,
     "metadata": {},
     "output_type": "execute_result"
    }
   ],
   "source": [
    "# change the datatypes of columns\n",
    "host_df['game_end_date'] = pd.to_datetime(host_df['game_end_date'])\n",
    "host_df['game_start_date'] = pd.to_datetime(host_df['game_start_date'])\n",
    "host_df['game_end_date'].dtype"
   ]
  },
  {
   "cell_type": "code",
   "execution_count": 10,
   "id": "dda2fa22-c75f-42d2-a6e6-fa5bc7353ab0",
   "metadata": {},
   "outputs": [],
   "source": [
    "host_df['game_duration']=host_df['game_end_date'] - host_df['game_start_date']"
   ]
  },
  {
   "cell_type": "code",
   "execution_count": 11,
   "id": "9011cc18-a963-45df-9d8a-797f02c8dd50",
   "metadata": {},
   "outputs": [
    {
     "data": {
      "image/png": "[encoded data removed]",
      "text/plain": [
       "<Figure size 1500x500 with 1 Axes>"
      ]
     },
     "metadata": {},
     "output_type": "display_data"
    }
   ],
   "source": [
    "plt.figure(figsize=(15,5))\n",
    "plt.bar(host_df['game_year'], host_df['game_duration'].dt.days)\n",
    "plt.xticks(rotation='vertical')\n",
    "plt.xticks(range(1896,2023,4))\n",
    "plt.title('Game Duration vs. Game Year')\n",
    "plt.xlabel('Game Year')\n",
    "plt.ylabel('Game Duration(Days)')\n",
    "plt.show()"
   ]
  },
  {
   "cell_type": "code",
   "execution_count": 12,
   "id": "345d8938-1c3d-4cdf-820b-b3e1edba69f0",
   "metadata": {},
   "outputs": [
    {
     "name": "stdout",
     "output_type": "stream",
     "text": [
      "Shortest Olympic Duration: 8 days\n"
     ]
    }
   ],
   "source": [
    "print('Shortest Olympic Duration:', host_df['game_duration'].min().days, 'days')"
   ]
  },
  {
   "cell_type": "code",
   "execution_count": 13,
   "id": "3cee2e31-96e7-4124-9b70-9088627efe87",
   "metadata": {},
   "outputs": [
    {
     "name": "stdout",
     "output_type": "stream",
     "text": [
      "Longest Olympic Duration: 187 days\n"
     ]
    }
   ],
   "source": [
    "print('Longest Olympic Duration:', host_df['game_duration'].max().days, 'days')"
   ]
  },
  {
   "cell_type": "markdown",
   "id": "3f52d0a4-5a0a-4d75-afe3-60ea813a7e32",
   "metadata": {},
   "source": [
    "# Olympic Athelete Data Analysis"
   ]
  },
  {
   "cell_type": "code",
   "execution_count": 14,
   "id": "2e27295b-150c-4ff4-bce8-2934e40d9e08",
   "metadata": {},
   "outputs": [],
   "source": [
    "ath_df = pd.read_csv('olympic_athletes.csv')"
   ]
  },
  {
   "cell_type": "code",
   "execution_count": 15,
   "id": "ccf9a5d5-bbc6-4085-bee6-3c2ebadcafaa",
   "metadata": {},
   "outputs": [
    {
     "data": {
      "text/html": [
       "<div>\n",
       "<style scoped>\n",
       "    .dataframe tbody tr th:only-of-type {\n",
       "        vertical-align: middle;\n",
       "    }\n",
       "\n",
       "    .dataframe tbody tr th {\n",
       "        vertical-align: top;\n",
       "    }\n",
       "\n",
       "    .dataframe thead th {\n",
       "        text-align: right;\n",
       "    }\n",
       "</style>\n",
       "<table border=\"1\" class=\"dataframe\">\n",
       "  <thead>\n",
       "    <tr style=\"text-align: right;\">\n",
       "      <th></th>\n",
       "      <th>athlete_url</th>\n",
       "      <th>athlete_full_name</th>\n",
       "      <th>games_participations</th>\n",
       "      <th>first_game</th>\n",
       "      <th>athlete_year_birth</th>\n",
       "      <th>athlete_medals</th>\n",
       "      <th>bio</th>\n",
       "    </tr>\n",
       "  </thead>\n",
       "  <tbody>\n",
       "    <tr>\n",
       "      <th>0</th>\n",
       "      <td>https://olympics.com/en/athletes/cooper-woods-...</td>\n",
       "      <td>Cooper WOODS-TOPALOVIC</td>\n",
       "      <td>1</td>\n",
       "      <td>Beijing 2022</td>\n",
       "      <td>2000.0</td>\n",
       "      <td>NaN</td>\n",
       "      <td>NaN</td>\n",
       "    </tr>\n",
       "    <tr>\n",
       "      <th>1</th>\n",
       "      <td>https://olympics.com/en/athletes/elofsson</td>\n",
       "      <td>Felix ELOFSSON</td>\n",
       "      <td>2</td>\n",
       "      <td>PyeongChang 2018</td>\n",
       "      <td>1995.0</td>\n",
       "      <td>NaN</td>\n",
       "      <td>NaN</td>\n",
       "    </tr>\n",
       "    <tr>\n",
       "      <th>2</th>\n",
       "      <td>https://olympics.com/en/athletes/dylan-walczyk</td>\n",
       "      <td>Dylan WALCZYK</td>\n",
       "      <td>1</td>\n",
       "      <td>Beijing 2022</td>\n",
       "      <td>1993.0</td>\n",
       "      <td>NaN</td>\n",
       "      <td>NaN</td>\n",
       "    </tr>\n",
       "    <tr>\n",
       "      <th>3</th>\n",
       "      <td>https://olympics.com/en/athletes/olli-penttala</td>\n",
       "      <td>Olli PENTTALA</td>\n",
       "      <td>1</td>\n",
       "      <td>Beijing 2022</td>\n",
       "      <td>1995.0</td>\n",
       "      <td>NaN</td>\n",
       "      <td>NaN</td>\n",
       "    </tr>\n",
       "    <tr>\n",
       "      <th>4</th>\n",
       "      <td>https://olympics.com/en/athletes/reikherd</td>\n",
       "      <td>Dmitriy REIKHERD</td>\n",
       "      <td>1</td>\n",
       "      <td>Beijing 2022</td>\n",
       "      <td>1989.0</td>\n",
       "      <td>NaN</td>\n",
       "      <td>NaN</td>\n",
       "    </tr>\n",
       "  </tbody>\n",
       "</table>\n",
       "</div>"
      ],
      "text/plain": [
       "                                         athlete_url       athlete_full_name  \\\n",
       "0  https://olympics.com/en/athletes/cooper-woods-...  Cooper WOODS-TOPALOVIC   \n",
       "1          https://olympics.com/en/athletes/elofsson          Felix ELOFSSON   \n",
       "2     https://olympics.com/en/athletes/dylan-walczyk           Dylan WALCZYK   \n",
       "3     https://olympics.com/en/athletes/olli-penttala           Olli PENTTALA   \n",
       "4          https://olympics.com/en/athletes/reikherd        Dmitriy REIKHERD   \n",
       "\n",
       "   games_participations        first_game  athlete_year_birth athlete_medals  \\\n",
       "0                     1      Beijing 2022              2000.0            NaN   \n",
       "1                     2  PyeongChang 2018              1995.0            NaN   \n",
       "2                     1      Beijing 2022              1993.0            NaN   \n",
       "3                     1      Beijing 2022              1995.0            NaN   \n",
       "4                     1      Beijing 2022              1989.0            NaN   \n",
       "\n",
       "   bio  \n",
       "0  NaN  \n",
       "1  NaN  \n",
       "2  NaN  \n",
       "3  NaN  \n",
       "4  NaN  "
      ]
     },
     "execution_count": 15,
     "metadata": {},
     "output_type": "execute_result"
    }
   ],
   "source": [
    "ath_df.head()"
   ]
  },
  {
   "cell_type": "code",
   "execution_count": 16,
   "id": "4c513b25-9570-4717-8d4a-2f09ed99e4f0",
   "metadata": {},
   "outputs": [
    {
     "data": {
      "text/html": [
       "<div>\n",
       "<style scoped>\n",
       "    .dataframe tbody tr th:only-of-type {\n",
       "        vertical-align: middle;\n",
       "    }\n",
       "\n",
       "    .dataframe tbody tr th {\n",
       "        vertical-align: top;\n",
       "    }\n",
       "\n",
       "    .dataframe thead th {\n",
       "        text-align: right;\n",
       "    }\n",
       "</style>\n",
       "<table border=\"1\" class=\"dataframe\">\n",
       "  <thead>\n",
       "    <tr style=\"text-align: right;\">\n",
       "      <th></th>\n",
       "      <th>athlete_url</th>\n",
       "      <th>athlete_full_name</th>\n",
       "      <th>games_participations</th>\n",
       "      <th>first_game</th>\n",
       "      <th>athlete_year_birth</th>\n",
       "      <th>athlete_medals</th>\n",
       "      <th>bio</th>\n",
       "    </tr>\n",
       "  </thead>\n",
       "  <tbody>\n",
       "    <tr>\n",
       "      <th>11408</th>\n",
       "      <td>https://olympics.com/en/athletes/mark-kyle</td>\n",
       "      <td>Mark KYLE</td>\n",
       "      <td>3</td>\n",
       "      <td>Athens 2004</td>\n",
       "      <td>1973.0</td>\n",
       "      <td>NaN</td>\n",
       "      <td>NaN</td>\n",
       "    </tr>\n",
       "  </tbody>\n",
       "</table>\n",
       "</div>"
      ],
      "text/plain": [
       "                                      athlete_url athlete_full_name  \\\n",
       "11408  https://olympics.com/en/athletes/mark-kyle         Mark KYLE   \n",
       "\n",
       "       games_participations   first_game  athlete_year_birth athlete_medals  \\\n",
       "11408                     3  Athens 2004              1973.0            NaN   \n",
       "\n",
       "       bio  \n",
       "11408  NaN  "
      ]
     },
     "execution_count": 16,
     "metadata": {},
     "output_type": "execute_result"
    }
   ],
   "source": [
    "ath_df.sample()"
   ]
  },
  {
   "cell_type": "code",
   "execution_count": 17,
   "id": "97a74c21-d280-474e-9813-6b9c8abf8d86",
   "metadata": {},
   "outputs": [
    {
     "name": "stdout",
     "output_type": "stream",
     "text": [
      "<class 'pandas.core.frame.DataFrame'>\n",
      "RangeIndex: 75904 entries, 0 to 75903\n",
      "Data columns (total 7 columns):\n",
      " #   Column                Non-Null Count  Dtype  \n",
      "---  ------                --------------  -----  \n",
      " 0   athlete_url           75904 non-null  object \n",
      " 1   athlete_full_name     75904 non-null  object \n",
      " 2   games_participations  75904 non-null  int64  \n",
      " 3   first_game            75882 non-null  object \n",
      " 4   athlete_year_birth    73448 non-null  float64\n",
      " 5   athlete_medals        15352 non-null  object \n",
      " 6   bio                   22842 non-null  object \n",
      "dtypes: float64(1), int64(1), object(5)\n",
      "memory usage: 4.1+ MB\n"
     ]
    }
   ],
   "source": [
    "ath_df.info()"
   ]
  },
  {
   "cell_type": "markdown",
   "id": "d106e59c-3cc0-4e87-b39f-f5b91fb977a0",
   "metadata": {},
   "source": [
    "### Top 5 Participants in games"
   ]
  },
  {
   "cell_type": "code",
   "execution_count": 18,
   "id": "86f15bc3-18eb-4362-b714-04867c721c97",
   "metadata": {},
   "outputs": [
    {
     "data": {
      "text/html": [
       "<div>\n",
       "<style scoped>\n",
       "    .dataframe tbody tr th:only-of-type {\n",
       "        vertical-align: middle;\n",
       "    }\n",
       "\n",
       "    .dataframe tbody tr th {\n",
       "        vertical-align: top;\n",
       "    }\n",
       "\n",
       "    .dataframe thead th {\n",
       "        text-align: right;\n",
       "    }\n",
       "</style>\n",
       "<table border=\"1\" class=\"dataframe\">\n",
       "  <thead>\n",
       "    <tr style=\"text-align: right;\">\n",
       "      <th></th>\n",
       "      <th>athlete_full_name</th>\n",
       "      <th>games_participations</th>\n",
       "    </tr>\n",
       "  </thead>\n",
       "  <tbody>\n",
       "    <tr>\n",
       "      <th>13932</th>\n",
       "      <td>Ian MILLAR</td>\n",
       "      <td>10</td>\n",
       "    </tr>\n",
       "    <tr>\n",
       "      <th>14975</th>\n",
       "      <td>Afanasijs KUZMINS</td>\n",
       "      <td>9</td>\n",
       "    </tr>\n",
       "    <tr>\n",
       "      <th>52073</th>\n",
       "      <td>Hubert RAUDASCHL</td>\n",
       "      <td>9</td>\n",
       "    </tr>\n",
       "    <tr>\n",
       "      <th>2167</th>\n",
       "      <td>Nino SALUKVADZE</td>\n",
       "      <td>9</td>\n",
       "    </tr>\n",
       "    <tr>\n",
       "      <th>56229</th>\n",
       "      <td>Paul Elvstrøm</td>\n",
       "      <td>8</td>\n",
       "    </tr>\n",
       "  </tbody>\n",
       "</table>\n",
       "</div>"
      ],
      "text/plain": [
       "       athlete_full_name  games_participations\n",
       "13932         Ian MILLAR                    10\n",
       "14975  Afanasijs KUZMINS                     9\n",
       "52073   Hubert RAUDASCHL                     9\n",
       "2167     Nino SALUKVADZE                     9\n",
       "56229      Paul Elvstrøm                     8"
      ]
     },
     "execution_count": 18,
     "metadata": {},
     "output_type": "execute_result"
    }
   ],
   "source": [
    "ath_df.sort_values(by='games_participations', ascending=False).head()[['athlete_full_name','games_participations']]"
   ]
  },
  {
   "cell_type": "code",
   "execution_count": 19,
   "id": "93a92d7a-91ef-4067-9b13-95e697cf73f5",
   "metadata": {},
   "outputs": [],
   "source": [
    "# Extract the year and country\n",
    "ath_df['first_game_year'] = ath_df['first_game'].str.extract(r'(\\d{4})')\n",
    "ath_df['first_game_country'] = ath_df['first_game'].str.extract(r'([A-Za-z\\s]+)')\n",
    "ath_df['first_game_country'] =ath_df['first_game_country'].str.strip()\n",
    "\n",
    "ath_df['athlete_medals'] = ath_df['athlete_medals'].str.replace(r'[\\n\\t\\r]', '', regex=True).str.strip()"
   ]
  },
  {
   "cell_type": "code",
   "execution_count": 20,
   "id": "6a76a2d9-b43a-4880-9df2-5b5ce3475ae0",
   "metadata": {},
   "outputs": [],
   "source": [
    "del ath_df['athlete_url']\n",
    "del ath_df['bio']\n",
    "del ath_df['first_game']"
   ]
  },
  {
   "cell_type": "code",
   "execution_count": 297,
   "id": "6ae82e58-9188-487f-a2b8-1f60dd8a9b88",
   "metadata": {},
   "outputs": [
    {
     "data": {
      "text/html": [
       "<div>\n",
       "<style scoped>\n",
       "    .dataframe tbody tr th:only-of-type {\n",
       "        vertical-align: middle;\n",
       "    }\n",
       "\n",
       "    .dataframe tbody tr th {\n",
       "        vertical-align: top;\n",
       "    }\n",
       "\n",
       "    .dataframe thead th {\n",
       "        text-align: right;\n",
       "    }\n",
       "</style>\n",
       "<table border=\"1\" class=\"dataframe\">\n",
       "  <thead>\n",
       "    <tr style=\"text-align: right;\">\n",
       "      <th></th>\n",
       "      <th>athlete_full_name</th>\n",
       "      <th>games_participations</th>\n",
       "      <th>athlete_year_birth</th>\n",
       "      <th>athlete_medals</th>\n",
       "      <th>first_game_year</th>\n",
       "      <th>first_game_country</th>\n",
       "    </tr>\n",
       "  </thead>\n",
       "  <tbody>\n",
       "    <tr>\n",
       "      <th>0</th>\n",
       "      <td>Cooper WOODS-TOPALOVIC</td>\n",
       "      <td>1</td>\n",
       "      <td>2000.0</td>\n",
       "      <td>NaN</td>\n",
       "      <td>2022</td>\n",
       "      <td>Beijing</td>\n",
       "    </tr>\n",
       "    <tr>\n",
       "      <th>1</th>\n",
       "      <td>Felix ELOFSSON</td>\n",
       "      <td>2</td>\n",
       "      <td>1995.0</td>\n",
       "      <td>NaN</td>\n",
       "      <td>2018</td>\n",
       "      <td>PyeongChang</td>\n",
       "    </tr>\n",
       "    <tr>\n",
       "      <th>2</th>\n",
       "      <td>Dylan WALCZYK</td>\n",
       "      <td>1</td>\n",
       "      <td>1993.0</td>\n",
       "      <td>NaN</td>\n",
       "      <td>2022</td>\n",
       "      <td>Beijing</td>\n",
       "    </tr>\n",
       "    <tr>\n",
       "      <th>3</th>\n",
       "      <td>Olli PENTTALA</td>\n",
       "      <td>1</td>\n",
       "      <td>1995.0</td>\n",
       "      <td>NaN</td>\n",
       "      <td>2022</td>\n",
       "      <td>Beijing</td>\n",
       "    </tr>\n",
       "    <tr>\n",
       "      <th>4</th>\n",
       "      <td>Dmitriy REIKHERD</td>\n",
       "      <td>1</td>\n",
       "      <td>1989.0</td>\n",
       "      <td>NaN</td>\n",
       "      <td>2022</td>\n",
       "      <td>Beijing</td>\n",
       "    </tr>\n",
       "  </tbody>\n",
       "</table>\n",
       "</div>"
      ],
      "text/plain": [
       "        athlete_full_name  games_participations  athlete_year_birth  \\\n",
       "0  Cooper WOODS-TOPALOVIC                     1              2000.0   \n",
       "1          Felix ELOFSSON                     2              1995.0   \n",
       "2           Dylan WALCZYK                     1              1993.0   \n",
       "3           Olli PENTTALA                     1              1995.0   \n",
       "4        Dmitriy REIKHERD                     1              1989.0   \n",
       "\n",
       "  athlete_medals first_game_year first_game_country  \n",
       "0            NaN            2022            Beijing  \n",
       "1            NaN            2018        PyeongChang  \n",
       "2            NaN            2022            Beijing  \n",
       "3            NaN            2022            Beijing  \n",
       "4            NaN            2022            Beijing  "
      ]
     },
     "execution_count": 297,
     "metadata": {},
     "output_type": "execute_result"
    }
   ],
   "source": [
    "ath_df.head()"
   ]
  },
  {
   "cell_type": "code",
   "execution_count": 298,
   "id": "0b760938-6abd-47a9-9001-1b1d214c7d07",
   "metadata": {},
   "outputs": [
    {
     "data": {
      "text/html": [
       "<div>\n",
       "<style scoped>\n",
       "    .dataframe tbody tr th:only-of-type {\n",
       "        vertical-align: middle;\n",
       "    }\n",
       "\n",
       "    .dataframe tbody tr th {\n",
       "        vertical-align: top;\n",
       "    }\n",
       "\n",
       "    .dataframe thead th {\n",
       "        text-align: right;\n",
       "    }\n",
       "</style>\n",
       "<table border=\"1\" class=\"dataframe\">\n",
       "  <thead>\n",
       "    <tr style=\"text-align: right;\">\n",
       "      <th></th>\n",
       "      <th>athlete_full_name</th>\n",
       "      <th>games_participations</th>\n",
       "      <th>athlete_year_birth</th>\n",
       "      <th>athlete_medals</th>\n",
       "      <th>first_game_year</th>\n",
       "      <th>first_game_country</th>\n",
       "    </tr>\n",
       "  </thead>\n",
       "  <tbody>\n",
       "    <tr>\n",
       "      <th>16863</th>\n",
       "      <td>Rasul ABDURAIM</td>\n",
       "      <td>2</td>\n",
       "      <td>1988.0</td>\n",
       "      <td>NaN</td>\n",
       "      <td>2008</td>\n",
       "      <td>Beijing</td>\n",
       "    </tr>\n",
       "    <tr>\n",
       "      <th>54571</th>\n",
       "      <td>Janice SMITH</td>\n",
       "      <td>1</td>\n",
       "      <td>1945.0</td>\n",
       "      <td>NaN</td>\n",
       "      <td>1964</td>\n",
       "      <td>Innsbruck</td>\n",
       "    </tr>\n",
       "    <tr>\n",
       "      <th>14351</th>\n",
       "      <td>Rachel SEAMAN</td>\n",
       "      <td>1</td>\n",
       "      <td>1986.0</td>\n",
       "      <td>NaN</td>\n",
       "      <td>2012</td>\n",
       "      <td>London</td>\n",
       "    </tr>\n",
       "    <tr>\n",
       "      <th>43135</th>\n",
       "      <td>Hana PASIAROVA</td>\n",
       "      <td>2</td>\n",
       "      <td>1949.0</td>\n",
       "      <td>NaN</td>\n",
       "      <td>1976</td>\n",
       "      <td>Innsbruck</td>\n",
       "    </tr>\n",
       "    <tr>\n",
       "      <th>28383</th>\n",
       "      <td>Andrea PRONO SANCHEZ</td>\n",
       "      <td>1</td>\n",
       "      <td>1984.0</td>\n",
       "      <td>NaN</td>\n",
       "      <td>2000</td>\n",
       "      <td>Sydney</td>\n",
       "    </tr>\n",
       "  </tbody>\n",
       "</table>\n",
       "</div>"
      ],
      "text/plain": [
       "          athlete_full_name  games_participations  athlete_year_birth  \\\n",
       "16863        Rasul ABDURAIM                     2              1988.0   \n",
       "54571          Janice SMITH                     1              1945.0   \n",
       "14351         Rachel SEAMAN                     1              1986.0   \n",
       "43135        Hana PASIAROVA                     2              1949.0   \n",
       "28383  Andrea PRONO SANCHEZ                     1              1984.0   \n",
       "\n",
       "      athlete_medals first_game_year first_game_country  \n",
       "16863            NaN            2008            Beijing  \n",
       "54571            NaN            1964          Innsbruck  \n",
       "14351            NaN            2012             London  \n",
       "43135            NaN            1976          Innsbruck  \n",
       "28383            NaN            2000             Sydney  "
      ]
     },
     "execution_count": 298,
     "metadata": {},
     "output_type": "execute_result"
    }
   ],
   "source": [
    "ath_df.sample(5)"
   ]
  },
  {
   "cell_type": "code",
   "execution_count": 299,
   "id": "9a9ecb6e-d3e6-4de0-9386-eae8b5795881",
   "metadata": {},
   "outputs": [
    {
     "data": {
      "text/plain": [
       "array([nan, '1S', '1B', '1G2S', '1G', '1G1B', '2G1S', '1S1B', '2S1B',\n",
       "       '2B', '1G1S1B', '1G1S', '1S3B', '2G4S5B', '3G2S', '2G2B', '2G2S1B',\n",
       "       '4G1S1B', '2G', '1S2B', '2G1B', '3B', '2S', '3G', '1G2S1B', '1G2B',\n",
       "       '4G', '3G1B', '6G1B', '3G2S1B', '2G3S', '5G2S1B', '3G2B', '2G3S3B',\n",
       "       '1G2S2B', '1G3B', '3G1S1B', '5G1S1B', '4B', '1G3S1B', '3S1B',\n",
       "       '2S3B', '3G6S', '2G1S1B', '2G4S1B', '6G5S2B', '5G2S2B', '4G2S3B',\n",
       "       '3G2S2B', '2G3S1B', '4G2S', '2S2B', '3S2B', '2G2S', '5G1B',\n",
       "       '6G1S1B', '1G1S2B', '5G', '2S4B', '7G2S', '4G1S2B', '3G3B',\n",
       "       '1G4S2B', '3G1S', '7G5S', '3G1S2B', '1G3S', '1G1S4B', '7G3S1B',\n",
       "       '5G1S', '1G1S3B', '3G4S1B', '7G3S', '4G1S3B', '5G2S4B', '3G3S1B',\n",
       "       '7G', '1G5S', '1G2S4B', '4S2B', '2G3B', '5G2S', '4G3S1B', '3G3S',\n",
       "       '3S', '8G4S3B', '2G1S2B', '4G2B', '2G1S3B', '4S', '8G', '3G4S',\n",
       "       '2G2S3B', '23G3S2B', '6G3S3B', '5G1S2B', '4G1S', '8G4S1B',\n",
       "       '1G3S2B', '6G2B', '3G5S1B', '4G3S3B', '4G1B', '1G4S', '6G1S2B',\n",
       "       '6G1S', '1G2S3B', '3G1S3B', '2G2S4B', '3G5S', '3G4S5B', '5B',\n",
       "       '4G2S2B', '4G4S4B', '2G4S3B', '1G4S1B', '1G4B', '4G5S', '5G3S1B',\n",
       "       '4S6B', '8G3S1B', '4G2S6B', '2G3S5B', '3S6B', '2G4S2B', '6G',\n",
       "       '3G4B', '8G4S', '6B', '6G4B', '9G1S', '4S1B', '1G5S1B', '2G4S',\n",
       "       '8G2S1B', '4G5S1B', '2G2S2B', '3G6S1B', '7G5S3B', '2G3S2B', '4G4S',\n",
       "       '4G3S', '5G1S3B', '3G3S3B', '4G3S2B', '6G2S2B', '2G6S1B', '9G1S1B',\n",
       "       '7G4S', '5S', '7G1S', '1G5B', '9G5S4B', '5G2S3B', '7G4S2B',\n",
       "       '1G5S3B', '5G4S4B', '1G3S3B', '7G1S2B', '5G3S2B', '2G5S', '2G1S6B',\n",
       "       '3G4S2B', '4G2S1B', '9G3S', '5G3S', '1S4B', '5G4S2B', '3S3B',\n",
       "       '6G4S', '5S2B'], dtype=object)"
      ]
     },
     "execution_count": 299,
     "metadata": {},
     "output_type": "execute_result"
    }
   ],
   "source": [
    "ath_df['athlete_medals'].unique()"
   ]
  },
  {
   "cell_type": "code",
   "execution_count": 300,
   "id": "0f152dfb-c19a-450a-a021-7c5f320ae5ef",
   "metadata": {},
   "outputs": [],
   "source": [
    "# Define a function to extract counts of Gold, Silver, Bronze\n",
    "def extract_medals(medals_str):\n",
    "    if pd.isna(medals_str):  # Check if the value is NaN\n",
    "        return pd.Series([0, 0, 0], index=['G', 'S', 'B'])\n",
    "    \n",
    "    # Ensure the input is a string\n",
    "    medals_str = str(medals_str)\n",
    "    \n",
    "    g_count = int(re.search(r'(\\d+)G', medals_str).group(1)) if 'G' in medals_str else 0\n",
    "    s_count = int(re.search(r'(\\d+)S', medals_str).group(1)) if 'S' in medals_str else 0\n",
    "    b_count = int(re.search(r'(\\d+)B', medals_str).group(1)) if 'B' in medals_str else 0\n",
    "    return pd.Series([g_count, s_count, b_count], index=['G', 'S', 'B'])\n",
    "\n",
    "# Apply the function to the DataFrame and create new columns\n",
    "ath_df[['Gold', 'Silver', 'Bronze']] = ath_df['athlete_medals'].apply(extract_medals)"
   ]
  },
  {
   "cell_type": "code",
   "execution_count": 301,
   "id": "3ff7a069-9421-410f-8949-9e34032d7762",
   "metadata": {},
   "outputs": [],
   "source": [
    "# Total medals of athlete\n",
    "ath_df['athlete_medals'] = ath_df['Gold'] + ath_df['Silver'] + ath_df['Bronze']"
   ]
  },
  {
   "cell_type": "markdown",
   "id": "5607d44d-3def-49ed-ad61-cbafefa81ad4",
   "metadata": {},
   "source": [
    "### Athlete with highest number of Medals"
   ]
  },
  {
   "cell_type": "code",
   "execution_count": 304,
   "id": "0426c001-0fe6-42a7-a8b0-b7481f0cd75e",
   "metadata": {},
   "outputs": [
    {
     "data": {
      "text/html": [
       "<div>\n",
       "<style scoped>\n",
       "    .dataframe tbody tr th:only-of-type {\n",
       "        vertical-align: middle;\n",
       "    }\n",
       "\n",
       "    .dataframe tbody tr th {\n",
       "        vertical-align: top;\n",
       "    }\n",
       "\n",
       "    .dataframe thead th {\n",
       "        text-align: right;\n",
       "    }\n",
       "</style>\n",
       "<table border=\"1\" class=\"dataframe\">\n",
       "  <thead>\n",
       "    <tr style=\"text-align: right;\">\n",
       "      <th></th>\n",
       "      <th>athlete_full_name</th>\n",
       "      <th>games_participations</th>\n",
       "      <th>athlete_medals</th>\n",
       "      <th>Gold</th>\n",
       "      <th>Silver</th>\n",
       "      <th>Bronze</th>\n",
       "    </tr>\n",
       "  </thead>\n",
       "  <tbody>\n",
       "    <tr>\n",
       "      <th>11547</th>\n",
       "      <td>Michael PHELPS</td>\n",
       "      <td>5</td>\n",
       "      <td>28</td>\n",
       "      <td>23</td>\n",
       "      <td>3</td>\n",
       "      <td>2</td>\n",
       "    </tr>\n",
       "  </tbody>\n",
       "</table>\n",
       "</div>"
      ],
      "text/plain": [
       "      athlete_full_name  games_participations  athlete_medals  Gold  Silver  \\\n",
       "11547    Michael PHELPS                     5              28    23       3   \n",
       "\n",
       "       Bronze  \n",
       "11547       2  "
      ]
     },
     "execution_count": 304,
     "metadata": {},
     "output_type": "execute_result"
    }
   ],
   "source": [
    "ath_df[ath_df['athlete_medals']==ath_df['athlete_medals'].max()][['athlete_full_name','games_participations','athlete_medals','Gold','Silver','Bronze']]"
   ]
  },
  {
   "cell_type": "markdown",
   "id": "b0838408-b668-4e7d-b173-e7dc27b15231",
   "metadata": {},
   "source": [
    "### Athlete with highest number of Gold medals"
   ]
  },
  {
   "cell_type": "code",
   "execution_count": 305,
   "id": "1048d93a-8e35-4345-bda9-b9c9ca4db136",
   "metadata": {},
   "outputs": [
    {
     "data": {
      "text/html": [
       "<div>\n",
       "<style scoped>\n",
       "    .dataframe tbody tr th:only-of-type {\n",
       "        vertical-align: middle;\n",
       "    }\n",
       "\n",
       "    .dataframe tbody tr th {\n",
       "        vertical-align: top;\n",
       "    }\n",
       "\n",
       "    .dataframe thead th {\n",
       "        text-align: right;\n",
       "    }\n",
       "</style>\n",
       "<table border=\"1\" class=\"dataframe\">\n",
       "  <thead>\n",
       "    <tr style=\"text-align: right;\">\n",
       "      <th></th>\n",
       "      <th>athlete_full_name</th>\n",
       "      <th>games_participations</th>\n",
       "      <th>athlete_medals</th>\n",
       "      <th>Gold</th>\n",
       "      <th>Silver</th>\n",
       "      <th>Bronze</th>\n",
       "    </tr>\n",
       "  </thead>\n",
       "  <tbody>\n",
       "    <tr>\n",
       "      <th>11547</th>\n",
       "      <td>Michael PHELPS</td>\n",
       "      <td>5</td>\n",
       "      <td>28</td>\n",
       "      <td>23</td>\n",
       "      <td>3</td>\n",
       "      <td>2</td>\n",
       "    </tr>\n",
       "  </tbody>\n",
       "</table>\n",
       "</div>"
      ],
      "text/plain": [
       "      athlete_full_name  games_participations  athlete_medals  Gold  Silver  \\\n",
       "11547    Michael PHELPS                     5              28    23       3   \n",
       "\n",
       "       Bronze  \n",
       "11547       2  "
      ]
     },
     "execution_count": 305,
     "metadata": {},
     "output_type": "execute_result"
    }
   ],
   "source": [
    "ath_df[ath_df['Gold']==ath_df['Gold'].max()][['athlete_full_name','games_participations','athlete_medals','Gold','Silver','Bronze']]"
   ]
  },
  {
   "cell_type": "markdown",
   "id": "571302f1-9ffb-4e15-8a04-da470ccaf586",
   "metadata": {},
   "source": [
    "### Athlete with highest number of Silver medals"
   ]
  },
  {
   "cell_type": "code",
   "execution_count": 306,
   "id": "48ab877d-d0d8-497c-a55d-4256b11f2bfa",
   "metadata": {},
   "outputs": [
    {
     "data": {
      "text/html": [
       "<div>\n",
       "<style scoped>\n",
       "    .dataframe tbody tr th:only-of-type {\n",
       "        vertical-align: middle;\n",
       "    }\n",
       "\n",
       "    .dataframe tbody tr th {\n",
       "        vertical-align: top;\n",
       "    }\n",
       "\n",
       "    .dataframe thead th {\n",
       "        text-align: right;\n",
       "    }\n",
       "</style>\n",
       "<table border=\"1\" class=\"dataframe\">\n",
       "  <thead>\n",
       "    <tr style=\"text-align: right;\">\n",
       "      <th></th>\n",
       "      <th>athlete_full_name</th>\n",
       "      <th>games_participations</th>\n",
       "      <th>athlete_medals</th>\n",
       "      <th>Gold</th>\n",
       "      <th>Silver</th>\n",
       "      <th>Bronze</th>\n",
       "    </tr>\n",
       "  </thead>\n",
       "  <tbody>\n",
       "    <tr>\n",
       "      <th>1569</th>\n",
       "      <td>Charlotte KALLA</td>\n",
       "      <td>4</td>\n",
       "      <td>9</td>\n",
       "      <td>3</td>\n",
       "      <td>6</td>\n",
       "      <td>0</td>\n",
       "    </tr>\n",
       "    <tr>\n",
       "      <th>43655</th>\n",
       "      <td>Aleksandr DITYATIN</td>\n",
       "      <td>2</td>\n",
       "      <td>10</td>\n",
       "      <td>3</td>\n",
       "      <td>6</td>\n",
       "      <td>1</td>\n",
       "    </tr>\n",
       "    <tr>\n",
       "      <th>46115</th>\n",
       "      <td>Shirley Farber BABASHOFF</td>\n",
       "      <td>2</td>\n",
       "      <td>9</td>\n",
       "      <td>3</td>\n",
       "      <td>6</td>\n",
       "      <td>0</td>\n",
       "    </tr>\n",
       "    <tr>\n",
       "      <th>47853</th>\n",
       "      <td>Mikhail VORONIN</td>\n",
       "      <td>2</td>\n",
       "      <td>9</td>\n",
       "      <td>2</td>\n",
       "      <td>6</td>\n",
       "      <td>1</td>\n",
       "    </tr>\n",
       "  </tbody>\n",
       "</table>\n",
       "</div>"
      ],
      "text/plain": [
       "              athlete_full_name  games_participations  athlete_medals  Gold  \\\n",
       "1569            Charlotte KALLA                     4               9     3   \n",
       "43655        Aleksandr DITYATIN                     2              10     3   \n",
       "46115  Shirley Farber BABASHOFF                     2               9     3   \n",
       "47853           Mikhail VORONIN                     2               9     2   \n",
       "\n",
       "       Silver  Bronze  \n",
       "1569        6       0  \n",
       "43655       6       1  \n",
       "46115       6       0  \n",
       "47853       6       1  "
      ]
     },
     "execution_count": 306,
     "metadata": {},
     "output_type": "execute_result"
    }
   ],
   "source": [
    "ath_df[ath_df['Silver']==ath_df['Silver'].max()][['athlete_full_name','games_participations','athlete_medals','Gold','Silver','Bronze']]"
   ]
  },
  {
   "cell_type": "markdown",
   "id": "7d761917-939f-4afc-aef3-c38165dd6b9e",
   "metadata": {},
   "source": [
    "### Athlete with highest number of Bronze medals"
   ]
  },
  {
   "cell_type": "code",
   "execution_count": 307,
   "id": "3783ec47-ac01-4fbf-8918-45d5cbc9feb1",
   "metadata": {},
   "outputs": [
    {
     "data": {
      "text/html": [
       "<div>\n",
       "<style scoped>\n",
       "    .dataframe tbody tr th:only-of-type {\n",
       "        vertical-align: middle;\n",
       "    }\n",
       "\n",
       "    .dataframe tbody tr th {\n",
       "        vertical-align: top;\n",
       "    }\n",
       "\n",
       "    .dataframe thead th {\n",
       "        text-align: right;\n",
       "    }\n",
       "</style>\n",
       "<table border=\"1\" class=\"dataframe\">\n",
       "  <thead>\n",
       "    <tr style=\"text-align: right;\">\n",
       "      <th></th>\n",
       "      <th>athlete_full_name</th>\n",
       "      <th>games_participations</th>\n",
       "      <th>athlete_medals</th>\n",
       "      <th>Gold</th>\n",
       "      <th>Silver</th>\n",
       "      <th>Bronze</th>\n",
       "    </tr>\n",
       "  </thead>\n",
       "  <tbody>\n",
       "    <tr>\n",
       "      <th>23356</th>\n",
       "      <td>Franziska VAN ALMSICK</td>\n",
       "      <td>4</td>\n",
       "      <td>10</td>\n",
       "      <td>0</td>\n",
       "      <td>4</td>\n",
       "      <td>6</td>\n",
       "    </tr>\n",
       "    <tr>\n",
       "      <th>24282</th>\n",
       "      <td>Alexei NEMOV</td>\n",
       "      <td>3</td>\n",
       "      <td>12</td>\n",
       "      <td>4</td>\n",
       "      <td>2</td>\n",
       "      <td>6</td>\n",
       "    </tr>\n",
       "    <tr>\n",
       "      <th>27593</th>\n",
       "      <td>Merlene OTTEY-PAGE</td>\n",
       "      <td>7</td>\n",
       "      <td>9</td>\n",
       "      <td>0</td>\n",
       "      <td>3</td>\n",
       "      <td>6</td>\n",
       "    </tr>\n",
       "    <tr>\n",
       "      <th>28894</th>\n",
       "      <td>Harri KIRVESNIEMI</td>\n",
       "      <td>6</td>\n",
       "      <td>6</td>\n",
       "      <td>0</td>\n",
       "      <td>0</td>\n",
       "      <td>6</td>\n",
       "    </tr>\n",
       "    <tr>\n",
       "      <th>59392</th>\n",
       "      <td>Heikki SAVOLAINEN</td>\n",
       "      <td>5</td>\n",
       "      <td>9</td>\n",
       "      <td>2</td>\n",
       "      <td>1</td>\n",
       "      <td>6</td>\n",
       "    </tr>\n",
       "  </tbody>\n",
       "</table>\n",
       "</div>"
      ],
      "text/plain": [
       "           athlete_full_name  games_participations  athlete_medals  Gold  \\\n",
       "23356  Franziska VAN ALMSICK                     4              10     0   \n",
       "24282           Alexei NEMOV                     3              12     4   \n",
       "27593     Merlene OTTEY-PAGE                     7               9     0   \n",
       "28894      Harri KIRVESNIEMI                     6               6     0   \n",
       "59392      Heikki SAVOLAINEN                     5               9     2   \n",
       "\n",
       "       Silver  Bronze  \n",
       "23356       4       6  \n",
       "24282       2       6  \n",
       "27593       3       6  \n",
       "28894       0       6  \n",
       "59392       1       6  "
      ]
     },
     "execution_count": 307,
     "metadata": {},
     "output_type": "execute_result"
    }
   ],
   "source": [
    "ath_df[ath_df['Bronze']==ath_df['Bronze'].max()][['athlete_full_name','games_participations','athlete_medals','Gold','Silver','Bronze']]"
   ]
  },
  {
   "cell_type": "markdown",
   "id": "c8ef86ee-ff2a-4979-8f50-af4df1eb8721",
   "metadata": {},
   "source": [
    "### New athletes entry in Olympics"
   ]
  },
  {
   "cell_type": "code",
   "execution_count": 309,
   "id": "68c17150-faf4-4b7a-b317-c5a5a85e6493",
   "metadata": {},
   "outputs": [
    {
     "data": {
      "text/plain": [
       "first_game_year\n",
       "1992    4845\n",
       "1988    4379\n",
       "2016    4111\n",
       "2008    3934\n",
       "2012    3906\n",
       "Name: count, dtype: int64"
      ]
     },
     "execution_count": 309,
     "metadata": {},
     "output_type": "execute_result"
    }
   ],
   "source": [
    "ath_df['first_game_year'].value_counts().head()"
   ]
  },
  {
   "cell_type": "code",
   "execution_count": 310,
   "id": "e2688b98-b6a5-47f1-a424-3fa80a5e37c0",
   "metadata": {},
   "outputs": [
    {
     "data": {
      "image/png": "[encoded data removed]",
      "text/plain": [
       "<Figure size 800x400 with 1 Axes>"
      ]
     },
     "metadata": {},
     "output_type": "display_data"
    }
   ],
   "source": [
    "plt.figure(figsize=(8,4))\n",
    "ath_df['first_game_year'].value_counts().head().plot(kind='bar', color='green')\n",
    "plt.xticks(rotation = 0)\n",
    "plt.title('Top 5 Olympics with Higest New Players')\n",
    "plt.xlabel('Year')\n",
    "plt.ylabel('Number of New Players')\n",
    "plt.show()"
   ]
  },
  {
   "cell_type": "code",
   "execution_count": 311,
   "id": "a5e3db78-28a9-4a16-9857-6a0d8f03216b",
   "metadata": {},
   "outputs": [
    {
     "data": {
      "image/png": "[encoded data removed]",
      "text/plain": [
       "<Figure size 800x400 with 1 Axes>"
      ]
     },
     "metadata": {},
     "output_type": "display_data"
    }
   ],
   "source": [
    "plt.figure(figsize=(8,4))\n",
    "ath_df['first_game_year'].value_counts().tail().plot(kind='bar', color='red')\n",
    "plt.xticks(rotation = 0)\n",
    "plt.title('Bottom 5 Olympics Years with Fewest New Players')\n",
    "plt.xlabel('Year')\n",
    "plt.ylabel('Number of New Players')\n",
    "plt.show()"
   ]
  },
  {
   "cell_type": "markdown",
   "id": "fd6060df-ecd0-448a-9927-8405fb7fe9e9",
   "metadata": {},
   "source": [
    "# Olympics Medal Analysis"
   ]
  },
  {
   "cell_type": "code",
   "execution_count": null,
   "id": "e035d86a-bb26-497b-8733-8d8c36844115",
   "metadata": {},
   "outputs": [],
   "source": [
    "med_df = pd.read_csv('olympic_medals.csv')"
   ]
  },
  {
   "cell_type": "code",
   "execution_count": 335,
   "id": "286345bd-7f43-411f-94bf-90ba5a815faa",
   "metadata": {},
   "outputs": [
    {
     "data": {
      "text/html": [
       "<div>\n",
       "<style scoped>\n",
       "    .dataframe tbody tr th:only-of-type {\n",
       "        vertical-align: middle;\n",
       "    }\n",
       "\n",
       "    .dataframe tbody tr th {\n",
       "        vertical-align: top;\n",
       "    }\n",
       "\n",
       "    .dataframe thead th {\n",
       "        text-align: right;\n",
       "    }\n",
       "</style>\n",
       "<table border=\"1\" class=\"dataframe\">\n",
       "  <thead>\n",
       "    <tr style=\"text-align: right;\">\n",
       "      <th></th>\n",
       "      <th>discipline_title</th>\n",
       "      <th>slug_game</th>\n",
       "      <th>event_title</th>\n",
       "      <th>event_gender</th>\n",
       "      <th>medal_type</th>\n",
       "      <th>participant_type</th>\n",
       "      <th>participant_title</th>\n",
       "      <th>athlete_url</th>\n",
       "      <th>athlete_full_name</th>\n",
       "      <th>country_name</th>\n",
       "      <th>country_code</th>\n",
       "      <th>country_3_letter_code</th>\n",
       "    </tr>\n",
       "  </thead>\n",
       "  <tbody>\n",
       "    <tr>\n",
       "      <th>10232</th>\n",
       "      <td>Cycling Track</td>\n",
       "      <td>barcelona-1992</td>\n",
       "      <td>Points Race men</td>\n",
       "      <td>Men</td>\n",
       "      <td>BRONZE</td>\n",
       "      <td>Athlete</td>\n",
       "      <td>NaN</td>\n",
       "      <td>https://olympics.com/en/athletes/cedric-mathy</td>\n",
       "      <td>Cedric MATHY</td>\n",
       "      <td>Belgium</td>\n",
       "      <td>BE</td>\n",
       "      <td>BEL</td>\n",
       "    </tr>\n",
       "    <tr>\n",
       "      <th>20193</th>\n",
       "      <td>Wrestling</td>\n",
       "      <td>antwerp-1920</td>\n",
       "      <td>Heavyweight, Greco-Roman (&gt;82.5 kilograms) Men</td>\n",
       "      <td>Men</td>\n",
       "      <td>GOLD</td>\n",
       "      <td>Athlete</td>\n",
       "      <td>NaN</td>\n",
       "      <td>https://olympics.com/en/athletes/adolf-valenti...</td>\n",
       "      <td>Adolf Valentin LINDFORS</td>\n",
       "      <td>Finland</td>\n",
       "      <td>FI</td>\n",
       "      <td>FIN</td>\n",
       "    </tr>\n",
       "    <tr>\n",
       "      <th>921</th>\n",
       "      <td>Artistic Gymnastics</td>\n",
       "      <td>tokyo-2020</td>\n",
       "      <td>Women's Team</td>\n",
       "      <td>Women</td>\n",
       "      <td>BRONZE</td>\n",
       "      <td>GameTeam</td>\n",
       "      <td>Great Britain</td>\n",
       "      <td>NaN</td>\n",
       "      <td>NaN</td>\n",
       "      <td>Great Britain</td>\n",
       "      <td>GB</td>\n",
       "      <td>GBR</td>\n",
       "    </tr>\n",
       "    <tr>\n",
       "      <th>20866</th>\n",
       "      <td>Athletics</td>\n",
       "      <td>london-1908</td>\n",
       "      <td>javelin throw men</td>\n",
       "      <td>Men</td>\n",
       "      <td>BRONZE</td>\n",
       "      <td>Athlete</td>\n",
       "      <td>NaN</td>\n",
       "      <td>https://olympics.com/en/athletes/otto-nilsson</td>\n",
       "      <td>Otto NILSSON</td>\n",
       "      <td>Sweden</td>\n",
       "      <td>SE</td>\n",
       "      <td>SWE</td>\n",
       "    </tr>\n",
       "    <tr>\n",
       "      <th>11685</th>\n",
       "      <td>Swimming</td>\n",
       "      <td>los-angeles-1984</td>\n",
       "      <td>100m butterfly men</td>\n",
       "      <td>Men</td>\n",
       "      <td>SILVER</td>\n",
       "      <td>Athlete</td>\n",
       "      <td>NaN</td>\n",
       "      <td>https://olympics.com/en/athletes/pablo-morales</td>\n",
       "      <td>Pablo MORALES</td>\n",
       "      <td>United States of America</td>\n",
       "      <td>US</td>\n",
       "      <td>USA</td>\n",
       "    </tr>\n",
       "  </tbody>\n",
       "</table>\n",
       "</div>"
      ],
      "text/plain": [
       "          discipline_title         slug_game  \\\n",
       "10232        Cycling Track    barcelona-1992   \n",
       "20193            Wrestling      antwerp-1920   \n",
       "921    Artistic Gymnastics        tokyo-2020   \n",
       "20866            Athletics       london-1908   \n",
       "11685             Swimming  los-angeles-1984   \n",
       "\n",
       "                                          event_title event_gender medal_type  \\\n",
       "10232                                 Points Race men          Men     BRONZE   \n",
       "20193  Heavyweight, Greco-Roman (>82.5 kilograms) Men          Men       GOLD   \n",
       "921                                      Women's Team        Women     BRONZE   \n",
       "20866                               javelin throw men          Men     BRONZE   \n",
       "11685                              100m butterfly men          Men     SILVER   \n",
       "\n",
       "      participant_type participant_title  \\\n",
       "10232          Athlete               NaN   \n",
       "20193          Athlete               NaN   \n",
       "921           GameTeam     Great Britain   \n",
       "20866          Athlete               NaN   \n",
       "11685          Athlete               NaN   \n",
       "\n",
       "                                             athlete_url  \\\n",
       "10232      https://olympics.com/en/athletes/cedric-mathy   \n",
       "20193  https://olympics.com/en/athletes/adolf-valenti...   \n",
       "921                                                  NaN   \n",
       "20866      https://olympics.com/en/athletes/otto-nilsson   \n",
       "11685     https://olympics.com/en/athletes/pablo-morales   \n",
       "\n",
       "             athlete_full_name              country_name country_code  \\\n",
       "10232             Cedric MATHY                   Belgium           BE   \n",
       "20193  Adolf Valentin LINDFORS                   Finland           FI   \n",
       "921                        NaN             Great Britain           GB   \n",
       "20866             Otto NILSSON                    Sweden           SE   \n",
       "11685            Pablo MORALES  United States of America           US   \n",
       "\n",
       "      country_3_letter_code  \n",
       "10232                   BEL  \n",
       "20193                   FIN  \n",
       "921                     GBR  \n",
       "20866                   SWE  \n",
       "11685                   USA  "
      ]
     },
     "execution_count": 335,
     "metadata": {},
     "output_type": "execute_result"
    }
   ],
   "source": [
    "med_df.sample(5)"
   ]
  },
  {
   "cell_type": "code",
   "execution_count": 336,
   "id": "812d8c68-fe84-4abe-9472-a44bb0a6bf7f",
   "metadata": {},
   "outputs": [
    {
     "data": {
      "text/plain": [
       "country_3_letter_code\n",
       "USA    3094\n",
       "URS    1272\n",
       "GER    1167\n",
       "GBR    1045\n",
       "FRA     952\n",
       "       ... \n",
       "DJI       1\n",
       "AHO       1\n",
       "ISV       1\n",
       "IRQ       1\n",
       "GUY       1\n",
       "Name: count, Length: 154, dtype: int64"
      ]
     },
     "execution_count": 336,
     "metadata": {},
     "output_type": "execute_result"
    }
   ],
   "source": [
    "med_df['country_3_letter_code'].value_counts()"
   ]
  },
  {
   "cell_type": "code",
   "execution_count": 337,
   "id": "5e790284-f945-48d8-a262-0b3aa963bef5",
   "metadata": {},
   "outputs": [
    {
     "data": {
      "text/plain": [
       "medal_type\n",
       "BRONZE    7529\n",
       "GOLD      7109\n",
       "SILVER    7059\n",
       "Name: count, dtype: int64"
      ]
     },
     "execution_count": 337,
     "metadata": {},
     "output_type": "execute_result"
    }
   ],
   "source": [
    "med_df['medal_type'].value_counts()"
   ]
  },
  {
   "cell_type": "code",
   "execution_count": 338,
   "id": "9df2e738-ab43-4892-b903-773371bd19b1",
   "metadata": {},
   "outputs": [],
   "source": [
    "gold_medals = med_df[med_df['medal_type'] == 'GOLD']\n",
    "silver_medals = med_df[med_df['medal_type'] == 'SILVER']\n",
    "bronze_medals = med_df[med_df['medal_type'] == 'BRONZE']"
   ]
  },
  {
   "cell_type": "code",
   "execution_count": 339,
   "id": "fc1f9484-7ffb-4e67-958c-06f43e3b81f4",
   "metadata": {},
   "outputs": [],
   "source": [
    "gold_counts = gold_medals['country_3_letter_code'].value_counts()\n",
    "silver_counts = silver_medals['country_3_letter_code'].value_counts()\n",
    "bronze_counts = bronze_medals['country_3_letter_code'].value_counts()"
   ]
  },
  {
   "cell_type": "code",
   "execution_count": 340,
   "id": "9c2b7d3e-fe64-479e-ab77-367e5c50e6dc",
   "metadata": {},
   "outputs": [
    {
     "name": "stdout",
     "output_type": "stream",
     "text": [
      "The country with the highest number of gold medals is USA with 1222 gold medals.\n"
     ]
    }
   ],
   "source": [
    "top_country = gold_counts.idxmax()\n",
    "top_gold_count = gold_counts.max()\n",
    "\n",
    "print(f\"The country with the highest number of gold medals is {top_country} with {top_gold_count} gold medals.\")"
   ]
  },
  {
   "cell_type": "code",
   "execution_count": 344,
   "id": "d89cef27-a926-4cd5-b734-c7e45f6cc4b0",
   "metadata": {},
   "outputs": [
    {
     "name": "stdout",
     "output_type": "stream",
     "text": [
      "The country with the lowest number of gold medals is BER with 1 gold medals.\n"
     ]
    }
   ],
   "source": [
    "bottom_country = gold_counts.idxmin()\n",
    "bottom_gold_count = gold_counts.min()\n",
    "\n",
    "print(f\"The country with the lowest number of gold medals is {bottom_country} with {bottom_gold_count} gold medals.\")"
   ]
  },
  {
   "cell_type": "code",
   "execution_count": 342,
   "id": "a46f10c2-1328-4b86-80dd-2e638b011e51",
   "metadata": {},
   "outputs": [
    {
     "name": "stdout",
     "output_type": "stream",
     "text": [
      "The country with the highest number of silver medals is USA with 1000 silver medals.\n"
     ]
    }
   ],
   "source": [
    "top_country = silver_counts.idxmax()\n",
    "top_silver_count = silver_counts.max()\n",
    "\n",
    "print(f\"The country with the highest number of silver medals is {top_country} with {top_silver_count} silver medals.\")"
   ]
  },
  {
   "cell_type": "code",
   "execution_count": 345,
   "id": "7f55a8cf-40b7-4b6b-b843-0ea84a4dba69",
   "metadata": {},
   "outputs": [
    {
     "name": "stdout",
     "output_type": "stream",
     "text": [
      "The country with the lowest number of silver medals is JOR with 1 silver medals.\n"
     ]
    }
   ],
   "source": [
    "bottom_country = silver_counts.idxmin()\n",
    "bottom_silver_count = silver_counts.min()\n",
    "\n",
    "print(f\"The country with the lowest number of silver medals is {bottom_country} with {bottom_silver_count} silver medals.\")"
   ]
  },
  {
   "cell_type": "code",
   "execution_count": 343,
   "id": "1b11bc09-75b4-4c15-bed3-2b44cb15292a",
   "metadata": {},
   "outputs": [
    {
     "name": "stdout",
     "output_type": "stream",
     "text": [
      "The country with the highest number of bronze medals is USA with 872 bronze medals.\n"
     ]
    }
   ],
   "source": [
    "top_country = bronze_counts.idxmax()\n",
    "top_bronze_count = bronze_counts.max()\n",
    "\n",
    "print(f\"The country with the highest number of bronze medals is {top_country} with {top_bronze_count} bronze medals.\")"
   ]
  },
  {
   "cell_type": "code",
   "execution_count": 346,
   "id": "1fa68e9e-f568-4fd6-b3bf-51310d0461e1",
   "metadata": {},
   "outputs": [
    {
     "name": "stdout",
     "output_type": "stream",
     "text": [
      "The country with the lowest number of bronze medals is BUR with 1 silver medals.\n"
     ]
    }
   ],
   "source": [
    "bottom_country = bronze_counts.idxmin()\n",
    "bottom_bronze_count = bronze_counts.min()\n",
    "\n",
    "print(f\"The country with the lowest number of bronze medals is {bottom_country} with {bottom_bronze_count} silver medals.\")"
   ]
  }
 ],
 "metadata": {
  "kernelspec": {
   "display_name": "Python 3 (ipykernel)",
   "language": "python",
   "name": "python3"
  },
  "language_info": {
   "codemirror_mode": {
    "name": "ipython",
    "version": 3
   },
   "file_extension": ".py",
   "mimetype": "text/x-python",
   "name": "python",
   "nbconvert_exporter": "python",
   "pygments_lexer": "ipython3",
   "version": "3.12.5"
  }
 },
 "nbformat": 4,
 "nbformat_minor": 5
}
